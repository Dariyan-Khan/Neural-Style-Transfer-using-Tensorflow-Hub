{
  "nbformat": 4,
  "nbformat_minor": 0,
  "metadata": {
    "kernelspec": {
      "display_name": "Python 3",
      "language": "python",
      "name": "python3"
    },
    "language_info": {
      "codemirror_mode": {
        "name": "ipython",
        "version": 3
      },
      "file_extension": ".py",
      "mimetype": "text/x-python",
      "name": "python",
      "nbconvert_exporter": "python",
      "pygments_lexer": "ipython3",
      "version": "3.8.8"
    },
    "colab": {
      "name": "1-Neural_Style_Transfer_Hub_Method.ipynb",
      "provenance": [],
      "machine_shape": "hm",
      "include_colab_link": true
    }
  },
  "cells": [
    {
      "cell_type": "markdown",
      "metadata": {
        "id": "view-in-github",
        "colab_type": "text"
      },
      "source": [
        "<a href=\"https://colab.research.google.com/github/Dariyan-Khan/Neural-Style-Transfer-using-Tensorflow-Hub/blob/main/1_Neural_Style_Transfer_Hub_Method.ipynb\" target=\"_parent\"><img src=\"https://colab.research.google.com/assets/colab-badge.svg\" alt=\"Open In Colab\"/></a>"
      ]
    },
    {
      "cell_type": "code",
      "metadata": {
        "colab": {
          "base_uri": "https://localhost:8080/"
        },
        "id": "5mpoW1U6N6cY",
        "outputId": "9a000b4c-3563-4cf6-b3a3-bcb78bd62160"
      },
      "source": [
        "!pip3 install tensorflow_hub"
      ],
      "execution_count": null,
      "outputs": [
        {
          "output_type": "stream",
          "name": "stdout",
          "text": [
            "Requirement already satisfied: tensorflow_hub in /usr/local/lib/python3.7/dist-packages (0.12.0)\n",
            "Requirement already satisfied: protobuf>=3.8.0 in /usr/local/lib/python3.7/dist-packages (from tensorflow_hub) (3.17.3)\n",
            "Requirement already satisfied: numpy>=1.12.0 in /usr/local/lib/python3.7/dist-packages (from tensorflow_hub) (1.19.5)\n",
            "Requirement already satisfied: six>=1.9 in /usr/local/lib/python3.7/dist-packages (from protobuf>=3.8.0->tensorflow_hub) (1.15.0)\n"
          ]
        }
      ]
    },
    {
      "cell_type": "code",
      "metadata": {
        "colab": {
          "base_uri": "https://localhost:8080/"
        },
        "id": "yzyyHGmRcuf-",
        "outputId": "bc056266-f1f4-45d6-84fc-2deae22ef3d3"
      },
      "source": [
        "from google.colab import drive\n",
        "drive.mount('/content/gdrive')"
      ],
      "execution_count": null,
      "outputs": [
        {
          "output_type": "stream",
          "name": "stdout",
          "text": [
            "Mounted at /content/gdrive\n"
          ]
        }
      ]
    },
    {
      "cell_type": "code",
      "metadata": {
        "id": "HLjqdfgveE4c"
      },
      "source": [
        "import os\n",
        "import matplotlib.pyplot as plt\n",
        "import numpy as np\n",
        "import tensorflow as tf\n",
        "import tensorflow_hub as hub\n",
        "from PIL import Image"
      ],
      "execution_count": null,
      "outputs": []
    },
    {
      "cell_type": "code",
      "metadata": {
        "id": "g6MkAbFwfpda"
      },
      "source": [
        "def get_char(filename,char):\n",
        "  return filename.find(char)"
      ],
      "execution_count": null,
      "outputs": []
    },
    {
      "cell_type": "code",
      "metadata": {
        "id": "UngXtL4D5VKq"
      },
      "source": [
        "del get_char"
      ],
      "execution_count": null,
      "outputs": []
    },
    {
      "cell_type": "code",
      "metadata": {
        "id": "2CXccQuac5js"
      },
      "source": [
        "CONTENT_BASE_PATH = './orangutans/orangutan_pics/'\n",
        "STYLE_BASE_PATH = './orangutans/paintings/'\n",
        "OUTPUT_BASE_PATH='./orangutans/processed_imgs/'\n",
        "\n",
        "content_imgs=os.listdir(CONTENT_BASE_PATH)\n",
        "style_imgs=os.listdir(STYLE_BASE_PATH)\n",
        "\n",
        "content_names = [filename[:get_char(filename,'.')] for filename in content_imgs]\n",
        "style_names = [filename[:get_char(filename,'.')] for filename in style_imgs]\n"
      ],
      "execution_count": null,
      "outputs": []
    },
    {
      "cell_type": "code",
      "metadata": {
        "id": "WfyKKKES4Uuh"
      },
      "source": [
        "def style_transfer(CONTENT_BASE_PATH,STYLE_BASE_PATH,OUTPUT_BASE_PATH):\n",
        "\n",
        "  import os\n",
        "  import matplotlib.pyplot as plt\n",
        "  import numpy as np\n",
        "  import tensorflow as tf\n",
        "  import tensorflow_hub as hub\n",
        "  from PIL import Image\n",
        "\n",
        "  get_char = lambda filename,char: filename.find(char)\n",
        "\n",
        "\n",
        "  content_imgs=os.listdir(CONTENT_BASE_PATH)\n",
        "  style_imgs=os.listdir(STYLE_BASE_PATH)\n",
        "\n",
        "  content_names = [filename[:get_char(filename,'.')] for filename in content_imgs]\n",
        "  style_names = [filename[:get_char(filename,'.')] for filename in style_imgs]\n",
        "\n",
        "  print(content_imgs)\n",
        "  print(style_imgs)\n",
        "\n",
        "  for c_img in content_imgs:\n",
        "    c_name= c_img[:get_char(c_img,'.')]\n",
        "\n",
        "    if c_name not in os.listdir(OUTPUT_BASE_PATH):\n",
        "        os.mkdir(OUTPUT_BASE_PATH + c_name + '/')\n",
        "\n",
        "    for s_img in style_imgs:\n",
        "\n",
        "      s_name= s_img[:get_char(s_img,'.')]\n",
        "\n",
        "      content_image_path= CONTENT_BASE_PATH + c_img\n",
        "      style_image_path= STYLE_BASE_PATH + s_img\n",
        "      content_image = plt.imread(content_image_path)\n",
        "      style_image = plt.imread(style_image_path)\n",
        "      # Convert to float32 numpy array, add batch dimension, and normalize to range [0, 1]. Example using numpy:\n",
        "      content_image = content_image.astype(np.float32)[np.newaxis, ...] / 255.\n",
        "      style_image = style_image.astype(np.float32)[np.newaxis, ...] / 255.\n",
        "      #print(content_image.shape)\n",
        "      #print(style_image.shape)\n",
        "      content_image= content_image[:,:,:,:3]\n",
        "      style_image=style_image[:,:,:,:3]\n",
        "      #print(content_image.shape)\n",
        "      #print(style_image.shape)\n",
        "\n",
        "      # Optionally resize the images. It is recommended that the style image is about\n",
        "      # 256 pixels (this size was used when training the style transfer network).\n",
        "      # The content image can be any size.\n",
        "      style_image = tf.image.resize(style_image, (256, 256))\n",
        "      \n",
        "      # Load image stylization module.\n",
        "      hub_module = hub.load('https://tfhub.dev/google/magenta/arbitrary-image-stylization-v1-256/2')\n",
        "\n",
        "      # Stylize image.\n",
        "      outputs = hub_module(tf.constant(content_image), tf.constant(style_image))\n",
        "      stylized_image = outputs[0]\n",
        "\n",
        "\n",
        "\n",
        "      stylized_image=tf.math.scalar_mul(255,stylized_image)\n",
        "      int_8_stylized=tf.cast(stylized_image, tf.uint8)\n",
        "\n",
        "      squeezed_image=tf.squeeze(int_8_stylized)\n",
        "\n",
        "      tf.keras.preprocessing.image.save_img(OUTPUT_BASE_PATH + c_name + '/' + c_name + '_' + s_name +'.jpeg',squeezed_image)\n"
      ],
      "execution_count": null,
      "outputs": []
    },
    {
      "cell_type": "code",
      "metadata": {
        "id": "IJyxILEY43sB",
        "colab": {
          "base_uri": "https://localhost:8080/"
        },
        "outputId": "4ea878f2-b263-406e-9be3-5d87b6762b4a"
      },
      "source": [
        "style_transfer('./banner_pic/','./abstract_imgs/','./banner_output/')"
      ],
      "execution_count": null,
      "outputs": [
        {
          "output_type": "stream",
          "name": "stdout",
          "text": [
            "['orangutan_banner_pic.jpg']\n",
            "['abstract_1.jpg', 'abstract_2.jpg', 'abstract_3.jpg']\n"
          ]
        }
      ]
    }
  ]
}